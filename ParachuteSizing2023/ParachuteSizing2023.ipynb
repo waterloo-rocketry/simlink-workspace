{
 "cells": [
  {
   "cell_type": "markdown",
   "id": "15b564fb-40d9-449b-84e2-95454040a7cc",
   "metadata": {},
   "source": [
    "# Introduction and rationale\n",
    "\n",
    "For the current design cycle, the descion was made to construct a new parachute. The reasons for this descision were as follows:\n",
    "\n",
    "1. Legacy knowledge about how parachutes are constructed was not passed one during the COVID era, and some of it was at risk of being lost as the last people who sewed the parachute (Roman, Zach) graduated. Sewing the new parachute would serve as knowledge transfer.\n",
    "2. The rocket underwent significant modifications and as a result, became much lighter during this design cycle. This meant that the parachute could be made smaller. As this eases packing, volume constraints, tangling risks, and mass, this would be a worthwhile pursuit for the recovery system.\n",
    "3. The old parachute has begun to deteriorate due to the overwhelmingly large amount of testing conducted on it. If it was chosen to fly this year, it would have possibly needed significant maintenance and cleaning. \n",
    "\n",
    "The format of this document is a jupyter notebook in the github simulink workspace due to the necessity of carrying out calculations and also since the calculations may involve the creation of simulink models (although this is admittedly unlikely).\n",
    "\n",
    "*Prepared by Artem Sotnikov, initial draft March 2023*\n",
    "\n"
   ]
  },
  {
   "cell_type": "code",
   "execution_count": 78,
   "id": "3eee6a96-eb23-44bc-bee5-daa4ab9414d8",
   "metadata": {},
   "outputs": [
    {
     "name": "stdout",
     "output_type": "stream",
     "text": [
      "The ipydex.displaytools extension is already loaded. To reload it, use:\n",
      "  %reload_ext ipydex.displaytools\n"
     ]
    }
   ],
   "source": [
    "# Python initialization\n",
    "\n",
    "from IPython.core.interactiveshell import InteractiveShell\n",
    "InteractiveShell.ast_node_interactivity = \"all\"\n",
    "import math\n",
    "from scipy.optimize import fsolve\n",
    "\n",
    "%load_ext ipydex.displaytools\n",
    "import ipydex # For better display\n",
    "\n",
    "FT_TO_M = 0.3048 ;\n",
    "LB_TO_KG = 0.453592 ;"
   ]
  },
  {
   "cell_type": "markdown",
   "id": "bbdea5aa-142d-48d0-b24c-8b6c04fd11f4",
   "metadata": {
    "tags": []
   },
   "source": [
    "# Sizing approach \n",
    "\n",
    "The parachute from the previous design cycle was relatively well characterized. It had an unreefed drag area of rouhgly $14 m^2$. This value is based on experimental data collected during Truck Test 4 and analyzed during the 2022 competition cycle using the 'truck-test-rapid-analyzer' script, code for which is available on github (https://github.com/waterloo-rocketry/truck-test-rapid-analyzer). The specific analysis file package is also uploaded to the team drive at Recovery/2023/TruckTest4AnalysisRedone. It must be noted that there is uncertainty in this unreefed area due to the necessity of data filtering via hand-picked constants. This is explored to some extent in the podium presentation and can be observed directly by changing the threshold values in the script-generated excel spreadsheet. The $14 m^2$ (corresponding to the 150 ft^2 in the original units of the calculator) is actually a conservative underestimate based on the range of values given by the data analysis, with values going up to 160 - 170 for the higher windspeed cases. Therefore, this lower value can be used with some degree of reliability. \n",
    "\n",
    "Given that the parachute to be sewn will employ a very similar construction, the best way to size it would be a scaling of the old parachute. In the manual (Parachute Recovery Systems Design Manual, T.W. Knacke, 1992), almost all drag area calculations are ultimately tied to the 'nomial diameter' of the parachute, which is a function of the total fabric surface area. Therefore, the selected approach for sizing the parachute would be to calculate a new nominal diamater assuming the same relative drag coefficient. \n",
    "\n",
    "The mass that the new parachute would need to target would be 93 lbs (which is the maximum load as predicted in the cycle 2.2 load case). This is contrasted with the old parachute that was to be used on the projected 100 lb KotS rocket (which ultimately grew to 105.51 lbs), and was sized for a 113lbs SotS rocket, which was ultimately 104.2 lbs (values taken from the respective reports, available on the drive or the website). \n",
    "\n",
    "Sizing parachutes could be done librally to place a large factor of safety on the landing loads. In the author's opinion, such a design philosophy is appropriate for a dual-separation system, which by its nature allows large parachutes and simple parachute bays, where tangling is not a significant concern. However, in a single-bay reefing system, a larger parachute carries a significant penalty to system development and reliability. "
   ]
  },
  {
   "cell_type": "markdown",
   "id": "795ca22f-1677-48d9-9814-9df7671fa11e",
   "metadata": {
    "tags": []
   },
   "source": [
    "Due to the nature of the reefing system, only one parachute needs to be sized, with the reefed stage being fully controlable by the length of the reefing line, which is done after the construction of the parachute itself. Thus, the driving factor of the sizing is the ground impact velocity. As per the DTEG, it is recommended at lower than 30 ft/s."
   ]
  },
  {
   "cell_type": "markdown",
   "id": "37382c6b-a2eb-4109-a5ec-58e010b5fe7f",
   "metadata": {
    "tags": []
   },
   "source": [
    "As noted in many texts on descent speeds, the descent speed of the parachute is given by:\n",
    "\n",
    "$V_{desc} = \\large \\sqrt{\\frac{2 m}{C_d S_o \\rho}}$\n",
    "\n",
    "Written in a form that allows for easier corrections due to altitude effects, it is also stated in the manual as:\n",
    "$\\therefore V_{desc} = \\large \\sqrt{\\frac{2 m}{C_d S_o \\rho_o}} \\cdot \\frac{1}{\\sqrt{\\rho \\, / \\rho_o}{}}$\n",
    "\n",
    "Where (as per the original source):\n",
    "\n",
    "> $m$ is the mass of the vehicle, in lbs  \n",
    "> $C_d S_o$ is the drag area, in ft^2  \n",
    "> $\\rho$ is the air density, (in slugs/ft^3 !)  \n",
    "> $\\rho_o$ is the air density at sea level (in slugs/ft^3)  \n",
    "\n",
    "The slug to lbs conversion is given by the acceleration due to gravity, or lbs can be used and the mass must be changed to newtons (i.e. the gravitational force on the system). This makes for easier operations with metric units:\n",
    "\n",
    "$V_{desc} = \\large \\sqrt{\\frac{2 m g}{C_d S_o \\rho}}$\n",
    "\n",
    "This can also be trivially re-arranged to solve for CdSo:\n",
    "\n",
    "$C_d S_o = \\large\\frac{2mg} {\\rho V_{desc}^2} $"
   ]
  },
  {
   "cell_type": "code",
   "execution_count": 38,
   "id": "4b89770c-403e-46f4-bf11-d33e24f9d9e0",
   "metadata": {},
   "outputs": [],
   "source": [
    "def v_desc(m, CdSo, rho):\n",
    "    return math.sqrt(2*m*(9.81)/(CdSo * rho))\n",
    "\n",
    "def cdso(m, v, rho):\n",
    "    return 2 * m * (9.81) / (rho * v**2)"
   ]
  },
  {
   "cell_type": "markdown",
   "id": "cbb3dded-859d-4afb-9d1d-5321bf6fc217",
   "metadata": {
    "tags": []
   },
   "source": [
    "Air density exists as a function of altitude and can be found in many tables. Since this is a code-capable document, all desired pressures can be calculated directly using the metric earth atmosphere model provided by NASA: https://www.grc.nasa.gov/www/k-12/airplane/atmosmet.html\n",
    "\n",
    "Which states that pressure in (in kPa) can be calculated from temperature (in $^{\\circ}$C):\n",
    "\n",
    "$p = 101.29 \\cdot \\large (\\frac{T + 273.1}{288.08})^{5.256}$  \n",
    "\n",
    "Where temperature varies directly with altitude as a 'lapse rate', given by $T = 15.04 - 0.00649 \\cdot h$\n",
    "  \n",
    "And from this, density is $\\rho = p \\cdot (T + 273.1))^{-1}$\n",
    "\n",
    "In last year's report, variations in pressure and temperature were considered to model the uncertainty in these values. The methodology used (which was somewhat crude but nontheless valid) revealed that temperature varied by 10 degrees, and pressure itself could vary by about 0.7 kPa due to other weather effects.\n",
    "\n",
    "This gives an upper and lower bound for pressure at any given altitude (ignoring the recursive variation of temperature on pressure):\n",
    "\n",
    "$\\require{color} \\large \\rho_{\\, upper} =  \\small (101.29 \\,\\large ((\\frac{(15.04 - 0.00649 \\cdot h) + 273.1}{288.08})^{5.256}) \\small \\colorbox{yellow}{+ 0.7}) \\small \\cdot ((15.04 - 0.00649 \\cdot h) + 273.1 \\colorbox{yellow}{- 10}))^{-1}$ \n",
    "\n",
    "$\\require{color} \\large \\rho_{\\, lower} = \\small (101.29 \\,\\large ((\\frac{(15.04 - 0.00649 \\cdot h) + 273.1}{288.08})^{5.256}) \\small \\colorbox{yellow}{- 0.7}) \\small \\cdot ((15.04 - 0.00649 \\cdot h) + 273.1 \\colorbox{yellow}{+ 10}))^{-1}$ "
   ]
  },
  {
   "cell_type": "code",
   "execution_count": 51,
   "id": "b383f394-f393-45fd-b8df-ee8aeaf6a790",
   "metadata": {},
   "outputs": [],
   "source": [
    "def calculate_densities(h):\n",
    "    T = 15.04 - 0.00649*h\n",
    "    rho_u = ((101.29*(((T + 273.1)/288.08)**(5.256))) + 0.7) * (0.2869*(T + 273.1 - 10))**(-1)\n",
    "    rho_l = ((101.29*(((T + 273.1)/288.08)**(5.256))) - 0.7) * (0.2869*(T + 273.1 + 10))**(-1)\n",
    "    return {\"rho_u\" : rho_u, \"rho_l\" : rho_l}"
   ]
  },
  {
   "cell_type": "markdown",
   "id": "3439851d-0c4f-4554-972b-07bb3d44aba4",
   "metadata": {},
   "source": [
    "Given the ground elevation at spaceport america, which is 1,401 m, the densities can be calculated:"
   ]
  },
  {
   "cell_type": "code",
   "execution_count": 52,
   "id": "9934be4f-17cb-4d07-a3cd-08ef83b3e7f1",
   "metadata": {},
   "outputs": [
    {
     "data": {
      "text/plain": [
       "rho := {'rho_u': 1.1189855884049338, 'rho_l': 1.0246776982951848}"
      ]
     },
     "metadata": {},
     "output_type": "display_data"
    },
    {
     "data": {
      "text/plain": [
       "---"
      ]
     },
     "metadata": {},
     "output_type": "display_data"
    }
   ],
   "source": [
    "rho = calculate_densities(1401) ##:"
   ]
  },
  {
   "cell_type": "markdown",
   "id": "1d979744-742a-4336-94bb-3502ac67f162",
   "metadata": {},
   "source": [
    "These are the desired densities, since the final descent occurs at the ground. Now executing the calculation for drag areas (in m^2):"
   ]
  },
  {
   "cell_type": "code",
   "execution_count": 54,
   "id": "a51b8201-ea6a-4ed0-b28e-6b2adaa579a5",
   "metadata": {},
   "outputs": [
    {
     "data": {
      "text/plain": [
       "cdso_l := 8.846070778887182"
      ]
     },
     "metadata": {},
     "output_type": "display_data"
    },
    {
     "data": {
      "text/plain": [
       "---"
      ]
     },
     "metadata": {},
     "output_type": "display_data"
    },
    {
     "data": {
      "text/plain": [
       "cdso_h := 9.660233390512623"
      ]
     },
     "metadata": {},
     "output_type": "display_data"
    },
    {
     "data": {
      "text/plain": [
       "---"
      ]
     },
     "metadata": {},
     "output_type": "display_data"
    }
   ],
   "source": [
    "cdso_l = cdso(93*LB_TO_KG, 30*FT_TO_M, rho['rho_u']) ##:\n",
    "cdso_h = cdso(93*LB_TO_KG, 30*FT_TO_M, rho['rho_l']) ##:"
   ]
  },
  {
   "cell_type": "markdown",
   "id": "eac11830-1894-4149-ad42-21b7c4023a94",
   "metadata": {},
   "source": [
    "For reference (as stated earlier) the old parachute had a drag area of $14m^2$, and with it the descent speed value (under the low density) would have been:"
   ]
  },
  {
   "cell_type": "code",
   "execution_count": 71,
   "id": "31a1c6bf-eedf-4b43-be78-bc71a51a4974",
   "metadata": {},
   "outputs": [
    {
     "data": {
      "text/plain": [
       "24.920172625321268"
      ]
     },
     "execution_count": 71,
     "metadata": {},
     "output_type": "execute_result"
    }
   ],
   "source": [
    "v_desc(93*LB_TO_KG, 14, rho['rho_l'])/FT_TO_M # in ft/s"
   ]
  },
  {
   "cell_type": "markdown",
   "id": "6a84bcb0-cbcb-47b0-8cb5-e64a6d96118a",
   "metadata": {},
   "source": [
    "Sizing the parachute for the lower density case and rounding for simiplicity gives a parachute with a drag area of 10. The last parachute possessed a nominal diamater of 4.84, and this is the value being scaled in the new parachute. Therefore, the new nominal diameter must be:"
   ]
  },
  {
   "cell_type": "code",
   "execution_count": 57,
   "id": "3e232d19-a1c4-458e-ba5f-8d1383dc9461",
   "metadata": {},
   "outputs": [
    {
     "data": {
      "text/plain": [
       "D_o_new := 3.4571428571428573"
      ]
     },
     "metadata": {},
     "output_type": "display_data"
    },
    {
     "data": {
      "text/plain": [
       "---"
      ]
     },
     "metadata": {},
     "output_type": "display_data"
    }
   ],
   "source": [
    "D_o_new = 4.84 * (10/14) ##:"
   ]
  },
  {
   "cell_type": "markdown",
   "id": "086fe51b-50d9-484f-9d39-d9ca8c4c3eb1",
   "metadata": {},
   "source": [
    "The nominal diameter is given as the diameter that would be obtained if all of the fabric was laid down in a flat circle. This is a function of the canopy's geometry:\n",
    "\n",
    "$S = (1/4) \\pi D_o^2$  \n",
    "\n",
    "$D_o = \\large\\sqrt{\\frac{4 \\cdot S}{\\pi}}$ \n",
    "\n",
    "\n",
    "This means that the new surface area must be:"
   ]
  },
  {
   "cell_type": "code",
   "execution_count": 95,
   "id": "d6d3a977-d8e8-471b-aacc-44a90723bffb",
   "metadata": {},
   "outputs": [
    {
     "data": {
      "text/plain": [
       "S_new := 9.386950620654728"
      ]
     },
     "metadata": {},
     "output_type": "display_data"
    },
    {
     "data": {
      "text/plain": [
       "---"
      ]
     },
     "metadata": {},
     "output_type": "display_data"
    }
   ],
   "source": [
    "S_new = (1/4)*(math.pi)*D_o_new**2 ##:"
   ]
  },
  {
   "cell_type": "markdown",
   "id": "13e4e351-b983-4a2b-b7e3-16bc53725088",
   "metadata": {},
   "source": [
    "For the ellipsoidal shape that is used on the canopy (given by Nakka's website), the minor:major axis ratio is 0.707:1, due to claimed 'structural efficiency' that Nakka doesn't really elaborate on in his website. The major diameter can be referred ot as the 'constructed diameter' or $D_c$. Given the formula for the surface area of the ellipsoid:\n",
    "\n",
    "![ellipsoid_formula.png](Figures/ellipsoid_formula.png)\n",
    "\n",
    "In this specific case, (and with only half the ellipsoid) it would be:\n",
    "\n",
    "$S = 2 \\pi ((1/3)(D_c^{3.2} + 2 (0.707 D_c^2)^{1.6}))^{(1/1.6)}$\n",
    "\n",
    "This is too cumbersome to re-arrange manually, so a numerical solver will be employed:"
   ]
  },
  {
   "cell_type": "code",
   "execution_count": 91,
   "id": "13304e0e-39fa-431e-9336-df831e36187a",
   "metadata": {},
   "outputs": [],
   "source": [
    "def SA_ellipse(dc):\n",
    "    rc = dc/2\n",
    "    return 2*math.pi*((1/3)*(rc**(3.2) + 2*(0.707*rc**2)**(1.6)))**(1/1.6)\n",
    "\n"
   ]
  },
  {
   "cell_type": "code",
   "execution_count": 96,
   "id": "6c185ebc-a73a-40e0-beb7-4cabdafe599c",
   "metadata": {},
   "outputs": [
    {
     "data": {
      "text/plain": [
       "dc_new := 2.71341000826823"
      ]
     },
     "metadata": {},
     "output_type": "display_data"
    },
    {
     "data": {
      "text/plain": [
       "---"
      ]
     },
     "metadata": {},
     "output_type": "display_data"
    },
    {
     "data": {
      "text/plain": [
       "(SA_ellipse(dc_new)) := 9.38695062065473"
      ]
     },
     "metadata": {},
     "output_type": "display_data"
    },
    {
     "data": {
      "text/plain": [
       "---"
      ]
     },
     "metadata": {},
     "output_type": "display_data"
    }
   ],
   "source": [
    "# fsolve works for roots of zero so I just stuck the thing in a lambda function\n",
    "dc_new = fsolve(lambda dc: SA_ellipse(dc) - S_new, 4.84)[0] ##:\n",
    "\n",
    "# Sanity check:\n",
    "SA_ellipse(dc_new) ##:"
   ]
  },
  {
   "cell_type": "markdown",
   "id": "629103e3-31e1-428d-a99d-6978b79e470d",
   "metadata": {},
   "source": [
    "This is the new diameter of the parachute. With this, Richard Nakka's parachute gore calculator script (shown in a link below) can be used to plot the specific gore pattens:\n",
    "\n",
    "https://www.nakka-rocketry.net/softw.html#PARA\n",
    "\n",
    "Aside from the diameter, the only other parameter required by the calculator is the number of gores. For simplicity and increased structural strength, this number will be retained at 16, same as the previous parachute (even though perhaps it could be reduced; but doing an analysis on it at this point is out of scope for this year's sizing due to how delayed it has been). Putting in the parameters into the calculator yields:\n",
    "\n",
    "![parachute_params.png](Figures/parachute_params.png)\n",
    "\n",
    "Which is the current proposed gore construction for the 2023 parachute."
   ]
  }
 ],
 "metadata": {
  "kernelspec": {
   "display_name": "Python 3 (ipykernel)",
   "language": "python",
   "name": "python3"
  },
  "language_info": {
   "codemirror_mode": {
    "name": "ipython",
    "version": 3
   },
   "file_extension": ".py",
   "mimetype": "text/x-python",
   "name": "python",
   "nbconvert_exporter": "python",
   "pygments_lexer": "ipython3",
   "version": "3.9.7"
  },
  "toc-autonumbering": true,
  "toc-showtags": false
 },
 "nbformat": 4,
 "nbformat_minor": 5
}
